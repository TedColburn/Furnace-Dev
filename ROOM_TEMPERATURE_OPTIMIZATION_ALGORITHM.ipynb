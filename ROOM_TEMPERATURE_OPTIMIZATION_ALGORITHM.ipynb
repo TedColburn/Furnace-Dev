{
  "nbformat": 4,
  "nbformat_minor": 0,
  "metadata": {
    "colab": {
      "name": "ROOM TEMPERATURE OPTIMIZATION ALGORITHM.ipynb",
      "version": "0.3.2",
      "provenance": [],
      "collapsed_sections": [],
      "include_colab_link": true
    },
    "kernelspec": {
      "name": "python3",
      "display_name": "Python 3"
    }
  },
  "cells": [
    {
      "cell_type": "markdown",
      "metadata": {
        "id": "view-in-github",
        "colab_type": "text"
      },
      "source": [
        "<a href=\"https://colab.research.google.com/github/TedColburn/Furnace-Dev/blob/master/ROOM_TEMPERATURE_OPTIMIZATION_ALGORITHM.ipynb\" target=\"_parent\"><img src=\"https://colab.research.google.com/assets/colab-badge.svg\" alt=\"Open In Colab\"/></a>"
      ]
    },
    {
      "cell_type": "markdown",
      "metadata": {
        "id": "CmJm7S0wCi2e",
        "colab_type": "text"
      },
      "source": [
        "Algorithm:\n",
        "\n",
        "repeat {\n",
        "> Now := current time\n",
        "\n",
        "> H := temperature history \n",
        "\n",
        "> with H and Now calculate durations:\n",
        ">> 1. Actual_duration := time value N\n",
        ">> 2. Temp_now, variance(T_now) := estimate current temperurature at time Now \n",
        ">> 3. If temp_now > target_temp skip to END_CONDITION\n",
        ">> 4. Temp_before, variance(T_before) := estimate current temperurature at time at Now-Actual_duration\n",
        ">> 5. Update Ideal_Curve() only free parameter is target_temp\n",
        ">> 6. Deal with edge cases - e.g. temperature drops, temp_before > target_temp, etc.\n",
        ">> 7. Ideal_duration = time at temp_now - time temp_before using the ideal curve \n",
        "\n",
        "> (insert Logic to prevent oscilation)\n",
        "\n",
        "> with durations, calculate BTU levels: \n",
        "\n",
        ">>A :=  probability(Ideal_duration<Actual_duration)\n",
        "\n",
        ">>B := probability(Ideal_duration==Actual_duration)\n",
        "\n",
        ">>C :=  probability(Ideal_duration>Actual_duration)\n",
        "\n",
        ">>D := argmax( A ,  B,  C) -- what has the highest probability?\n",
        "\n",
        ">> if D == A then increase BTU value\n",
        "\n",
        ">> elseif D == B then maintain current BTU value\n",
        "\n",
        ">> elseif D == C then decrease BTU \n",
        "\n",
        ">> if Temp_now < target_temp then set BTU level minimum heating value\n",
        "\n",
        "> END_CONDITION\n",
        "\n",
        "> If temp_now > target_temp then set BTU level to 0\n",
        "\n",
        "> wait(wait_duration)\n",
        "\n",
        "}\n",
        "\n",
        "\n",
        "\n",
        "\n"
      ]
    },
    {
      "cell_type": "code",
      "metadata": {
        "id": "3qvqAKCW85dt",
        "colab_type": "code",
        "outputId": "83609808-2d01-4969-a5c5-69c8683968d7",
        "colab": {
          "base_uri": "https://localhost:8080/",
          "height": 287
        }
      },
      "source": [
        "import numpy as np\n",
        "import matplotlib.pyplot as plt\n",
        "import scipy\n",
        "from scipy.optimize import curve_fit\n",
        "\n",
        "\n",
        "def eq_ted(temp_now, temp_target, time_step=1.0, rate=0.06):\n",
        "    dT = temp_target - temp_now\n",
        "    t_next = temp_now + (time_step * dT * rate)\n",
        "    return t_next\n",
        "  \n",
        "# lets set up some time steps\n",
        "# a target temperature, and some temp as a starting point\n",
        "# every time step relies on the past, so lets iterate through and calculate the temp\n",
        "\n",
        "x = np.arange(100)\n",
        "t_target = 72\n",
        "t_now = 32\n",
        "t = [32]\n",
        "\n",
        "for step in range(len(x)-1):\n",
        "    t_next = eq_ted(t_now, t_target)\n",
        "    t.append(t_next)\n",
        "    t_now = t_next\n",
        "    \n",
        "    \n",
        "plt.scatter(x, t)\n",
        "\n"
      ],
      "execution_count": 0,
      "outputs": [
        {
          "output_type": "execute_result",
          "data": {
            "text/plain": [
              "<matplotlib.collections.PathCollection at 0x7fdbf2260400>"
            ]
          },
          "metadata": {
            "tags": []
          },
          "execution_count": 139
        },
        {
          "output_type": "display_data",
          "data": {
            "image/png": "[encoded data removed]",
            "text/plain": [
              "<Figure size 432x288 with 1 Axes>"
            ]
          },
          "metadata": {
            "tags": []
          }
        }
      ]
    },
    {
      "cell_type": "markdown",
      "metadata": {
        "id": "S0xg3-fuHkfj",
        "colab_type": "text"
      },
      "source": [
        ""
      ]
    },
    {
      "cell_type": "markdown",
      "metadata": {
        "id": "_9RlrIAG-hpk",
        "colab_type": "text"
      },
      "source": [
        "This is an example of an exponential decay function, the closed form solution is:"
      ]
    },
    {
      "cell_type": "code",
      "metadata": {
        "id": "VujpPJH_-l6X",
        "colab_type": "code",
        "outputId": "423e12c3-3f37-475a-922a-52a182343184",
        "colab": {
          "base_uri": "https://localhost:8080/",
          "height": 287
        }
      },
      "source": [
        "def ideal_curve(temp_target, elapsed_time, initial_temp = 0, rate=0.06):\n",
        "    return temp_target - ((temp_target-initial_temp) * np.exp(-elapsed_time * rate))\n",
        "  \n",
        "\n",
        "t_ideal = ideal_curve(t_target, x, initial_temp=32)\n",
        "\n",
        "plt.scatter(x, t_ideal)\n"
      ],
      "execution_count": 0,
      "outputs": [
        {
          "output_type": "execute_result",
          "data": {
            "text/plain": [
              "<matplotlib.collections.PathCollection at 0x7fdbf21f4a58>"
            ]
          },
          "metadata": {
            "tags": []
          },
          "execution_count": 140
        },
        {
          "output_type": "display_data",
          "data": {
            "image/png": "[encoded data removed]",
            "text/plain": [
              "<Figure size 432x288 with 1 Axes>"
            ]
          },
          "metadata": {
            "tags": []
          }
        }
      ]
    },
    {
      "cell_type": "code",
      "metadata": {
        "id": "DJnXWWtn_aO6",
        "colab_type": "code",
        "outputId": "2f0a2d40-b24d-433f-d8b0-daca34ae58ab",
        "colab": {
          "base_uri": "https://localhost:8080/",
          "height": 269
        }
      },
      "source": [
        "def scatter(x, t, ts, groups = (\"ideal\", \"step_wise\")):\n",
        "\n",
        "    g1 = (x,t)\n",
        "    g2 = (x,ts)\n",
        "    data = (g1, g2)\n",
        "    colors = (\"red\", \"green\" )\n",
        "   \n",
        "\n",
        "    # Create plot\n",
        "    fig = plt.figure()\n",
        "    ax = fig.add_subplot(1, 1, 1)\n",
        "\n",
        "    for data, color, group in zip(data, colors, groups):\n",
        "        x, y = data\n",
        "        ax.scatter(x, y, alpha=0.8, c=color, edgecolors='none', s=30, label=group)\n",
        "\n",
        "    plt.legend(loc=2)\n",
        "    plt.show()\n",
        "    \n",
        "scatter(x, t_ideal, t)\n",
        "    "
      ],
      "execution_count": 0,
      "outputs": [
        {
          "output_type": "display_data",
          "data": {
            "image/png": "[encoded data removed]",
            "text/plain": [
              "<Figure size 432x288 with 1 Axes>"
            ]
          },
          "metadata": {
            "tags": []
          }
        }
      ]
    },
    {
      "cell_type": "markdown",
      "metadata": {
        "id": "b7X2Fm1QAUgU",
        "colab_type": "text"
      },
      "source": [
        "There is a little difference due to the closed form solution vs the iterative summation"
      ]
    },
    {
      "cell_type": "markdown",
      "metadata": {
        "id": "Xua9FSA5Ccab",
        "colab_type": "text"
      },
      "source": [
        "Given the current temperature we can also compute a previous temperature in the past\n",
        "Simply re-arrange the equation.\n",
        "\n",
        "Of course this will extrapolate far beyone reality to below absolute zero values.\n"
      ]
    },
    {
      "cell_type": "code",
      "metadata": {
        "id": "c3eK9lddDGzb",
        "colab_type": "code",
        "outputId": "4b8c43f2-30a1-4aeb-a8ce-377da059f602",
        "colab": {
          "base_uri": "https://localhost:8080/",
          "height": 287
        }
      },
      "source": [
        "def initial_temp(temp_target, elapsed_time, temp_now, rate=0.06):\n",
        "    return temp_now*np.exp(elapsed_time*rate) - temp_target*np.exp(elapsed_time*rate) + temp_target\n",
        "  \n",
        "\n",
        "t_prior = initial_temp(t_target, x, t_ideal[-1] )\n",
        "\n",
        "# plot the values - note the reverse order\n",
        "plt.plot(t_prior)\n",
        "\n",
        "\n",
        "\n"
      ],
      "execution_count": 0,
      "outputs": [
        {
          "output_type": "execute_result",
          "data": {
            "text/plain": [
              "[<matplotlib.lines.Line2D at 0x7fdbf2410c50>]"
            ]
          },
          "metadata": {
            "tags": []
          },
          "execution_count": 143
        },
        {
          "output_type": "display_data",
          "data": {
            "image/png": "[encoded data removed]",
            "text/plain": [
              "<Figure size 432x288 with 1 Axes>"
            ]
          },
          "metadata": {
            "tags": []
          }
        }
      ]
    }
  ]
}